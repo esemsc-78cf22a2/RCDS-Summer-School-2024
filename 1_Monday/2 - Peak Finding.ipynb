{
 "cells": [
  {
   "cell_type": "markdown",
   "metadata": {},
   "source": [
    "# Peak Finding Exercise\n",
    "\n",
    "When dealing with a series of values, we might commonly want to know what the maximum value is. For example, if we were looking at the temperature of a sample in a chemistry lab, we might want to know what the maximum temperature was during the course of an experiment. We might have some data which looks something like this:\n",
    "\n",
    "<center><img src=\"../Resources/peak_full.png\" style=\"height:300px\" /></center>\n",
    "\n",
    "In this case, the data has been taken every 1 hour, however, its clear that this is not often enough to capture all the variation of the actual temperature. For example, we can zoom in on the time period between 3 and 7 hours and plot the actual temperature alongside the data points recorded:\n",
    "\n",
    "<center><img src=\"../Resources/peak_closeup.png\" style=\"height:300px\" /></center>\n",
    "\n",
    "As we can see, the data points do not capture the full variation of the temperature over time. In particular, the data points do not capture the peak temperature or the timing of this peak. In some experiments ot simulations, capturing these features of a data set can be very useful.\n",
    "\n",
    "In this exercise, you will build a code which can interpolate between points of a data set to find the peak value and the time at which this peak occurs. "
   ]
  },
  {
   "cell_type": "markdown",
   "metadata": {},
   "source": [
    "## Breaking the task down to steps\n",
    "\n",
    "When planning to tackle a task—large or small—it is a good idea to outline the structure of the code (there is no coding involved yet). In this task, we build the code from the bottom up. \n",
    "\n",
    "Before considering the whole dataset, we'll concentrate on solving the task for three points. Once we can find the peak for three points, we will apply this function to the whole dataset by looping over all points. \n",
    "\n",
    "This notebook divides the development process into three tasks. Each task description includes the needed information regarding the math and coding approaches. This is an example approach to tackling this problem.\n",
    "\n",
    "**Task 1** - Write a function that takes the coordinates of three points and returns quadratic coefficients.\n",
    "\n",
    "**Task 2** - Use the function from Task 1 and find a peak for three points.\n",
    "\n",
    "**Task 3** - Apply the function from Task 2 to the whole dataset."
   ]
  },
  {
   "cell_type": "markdown",
   "metadata": {},
   "source": [
    "## Task 1 - The Quadratic Approximation\n",
    "\n",
    "We can approximate the shape of a curve around a point by defining a quadratic function which passes through the points an the points on either side of it. For the peak we're discussing, this function may look like this:c\n",
    "\n",
    "<center><img src=\"../Resources/peak_fit.png\" style=\"height:300px\" /></center>\n",
    "\n",
    "As we can see, the fit still isn't perfect, but we are getting an improved estimate of the peak value and the time at which this peak occurs. The quadratic fit has the equation:\n",
    "\n",
    "$$ y = ax^{2} + bx + c $$\n",
    "\n",
    "where $a$, $b$ and $c$ are the quadratic, linear, and constant coefficients of the function. We can find these coefficients by solving the following equations:\n",
    "\n",
    "$$ a = \\frac{x_{1}(y_{3} - y_{2}) + x_{2}(y_{1} - y_{3}) + x_{3}(y_{2} - y_{1})}{(x_{1} - x_{2})(x_{1} - x_{3})(x_{2} - x_{3})} $$\n",
    "\n",
    "$$ b = \\frac{y_{2} - y_{1}}{x_{2} - x_{1}} - a (x_{1} + x_{2})$$\n",
    "\n",
    "$$ c = y_{1} - ax_{1} ^{2} - bx_{1} $$\n",
    "\n",
    "where $(x_{1}, y_{1})$, $(x_{2}, y_{2})$ and $(x_{3}, y_{3})$ are the Cartesian coordinates of the point to the left, the central point, and the point to the right of the region we're approximating."
   ]
  },
  {
   "cell_type": "markdown",
   "metadata": {},
   "source": [
    "### Coding\n",
    "\n",
    "Using the equations for $a$, $b$, and $c$ above, write a function in the code cell below named ```get_quadratic_coefficients``` which receives 6 arguments. These arguments should be, in order, $x_{1}$, $y_{1}$, $x_{2}$, $y_{2}$, $x_{3}$, and $y_{3}$. The function should return a list with three entries, containing the values of $a$, $b$, and $c$. There are a few calls to the function in the cell below, which you can use to test your function."
   ]
  },
  {
   "cell_type": "code",
   "execution_count": 1,
   "metadata": {},
   "outputs": [
    {
     "name": "stdout",
     "output_type": "stream",
     "text": [
      "[-0.0, 0.0, 0.0]\n",
      "[5.5511151231258054e-14, 2.999999999999518, -22.699999999998955]\n",
      "[2.0, 0.0, 0.0]\n",
      "[-6.0, 64.0, -150.0]\n"
     ]
    }
   ],
   "source": [
    "# Write your function here\n",
    "def get_quadratic_coefficients(x1, y1, x2, y2, x3, y3):\n",
    "    a = (x1*(y3-y2) + x2*(y1-y3) + x3*(y2-y1)) / ((x1-x2)*(x1-x3)*(x2-x3))\n",
    "    b = (y2-y1) / (x2-x1) - a*(x1+x2)\n",
    "    c = y1 - a*x1**2 - b*x1\n",
    "    return [a, b, c]\n",
    "    \n",
    "# Test Cases\n",
    "print(get_quadratic_coefficients(-1, 0, 0, 0, 1, 0)) # Should return [0.0, 0.0, 0.0]\n",
    "\n",
    "print(get_quadratic_coefficients(4.2, -10.1, 4.4, -9.5, 4.6, -8.9)) # Should return [0.0, 3.0, -22.7]\n",
    "\n",
    "print(get_quadratic_coefficients(-10, 200, 0, 0, 10, 200)) # Should return [2.0, 0.0, 0.0]\n",
    "\n",
    "print(get_quadratic_coefficients(4, 10, 5, 20, 6, 18)) # Should return [-6.0, 64.0, -150.0]"
   ]
  },
  {
   "cell_type": "markdown",
   "metadata": {},
   "source": [
    "For each of the exercises in this notebook, sample solutions can be found in [```Sample Solutions/Sample Solutions 2 - Peak Finding.ipynb```](Sample%20Solutions/Sample%20Solutions%202%20-%20Peak%20Finding.ipynb)."
   ]
  },
  {
   "cell_type": "markdown",
   "metadata": {},
   "source": [
    "## Task 2 - Finding the Peak\n",
    "\n",
    "Once we have the coefficients of the quadratic function, we can find the peak by finding the $x$ value at which the function reaches its maximum. To do this, we can find the value of $x$ at which the gradient of the function is equal to zero. The gradient of the function is given by:\n",
    "\n",
    "$$ g = 2ax + b $$\n",
    "\n",
    "and is equal to zero when:\n",
    "\n",
    "$$ 0 = 2a x_{flat} + b $$\n",
    "\n",
    "$$ x_{flat} = -\\frac{b}{2a} $$\n",
    "\n",
    "Considering general properties of quadratic function, if the value of $a$ is positive, then this value of $x_{flat}$ corresponds to a minimum, and if the value of $a$ is negative, then this value of $x_{flat}$ corresponds to a maximum. If the value of $a$ is zero, then the quadratic coefficient is zero and the function has no peak."
   ]
  },
  {
   "cell_type": "markdown",
   "metadata": {},
   "source": [
    "### Coding\n",
    "\n",
    "Write a function named ```get_peak_in_region``` which finds the peak of the function approximated by three data-points. This function should receive 6 arguments. These arguments should be, in order, $x_{1}$, $y_{1}$, $x_{2}$, $y_{2}$, $x_{3}$, and $y_{3}$, where $(x_{1}, y_{1})$, $(x_{2}, y_{2})$ and $(x_{3}, y_{3})$ are the Cartesian coordinates of the point on the left boundary left, the central point, and the point on the right boundary of the region we're approximating.\n",
    "\n",
    "This function should use your function ```get_quadratic_coefficients``` to find the coefficients of the quadratic function which approximates the data. It should then use these coefficients to find the $x$ value at which the gradient of the function is equal to zero. \n",
    "\n",
    "If this value of $x$ is between $x_{1}$ and $x_{3}$ inclusive (i.e. it's in the region we're approximating) AND the value of $a$ is negative (i.e. our approximation contains a peak) then the function should return a list containing the values of $x$ at this peak and the value of $y$ at this point (i.e. the Cartesian coordinates of the peak). To get the value of $y$, you will need to evaluate the quadratic function. You may want to consider writing a separate function for this.\n",
    "\n",
    "If this value of $x$ is not between $x_{1}$ and $x_{3}$, or if the approximation is flat ($a$ is zero) or contains a minimum ($a$ is positive), then the function should return ```None```.\n",
    "\n",
    "When writing this function, you will use ```get_quadratic_coefficients``` (and possibly more functions). Using multiple functions with a clear purpose not only improves the readability of your code but also enables you to test each function separately (unit testing). Testing frameworks are essential for developing large and complex codes. "
   ]
  },
  {
   "cell_type": "code",
   "execution_count": 2,
   "metadata": {},
   "outputs": [
    {
     "name": "stdout",
     "output_type": "stream",
     "text": [
      "[1.0, 1.0]\n",
      "[3.5, -8.625]\n",
      "None\n",
      "None\n",
      "None\n",
      "None\n"
     ]
    }
   ],
   "source": [
    "# Write your function here\n",
    "def get_peak_in_region(x1, y1, x2, y2, x3, y3):\n",
    "    [a, b, c] = get_quadratic_coefficients(x1, y1, x2, y2, x3, y3)\n",
    "    if a == 0:\n",
    "        return None\n",
    "    x_flat = -b / (2*a)\n",
    "    if x1 <= x_flat and x_flat <= x3 and a < 0:\n",
    "        y_flat = get_y_value(a,b,c,x_flat)    \n",
    "        return [x_flat, y_flat]\n",
    "    elif x_flat < x1 or x_flat > x3 or a > 0:\n",
    "        return None\n",
    "\n",
    "def get_y_value(a, b, c, x):\n",
    "    y = a*x**2 + b*x + c\n",
    "    return y\n",
    "\n",
    "# Test Cases\n",
    "print(get_peak_in_region(0.8, 0, 1, 1, 1.2, 0)) # Should return [1.0, 1.0]\n",
    "\n",
    "print(get_peak_in_region(3, -9, 4, -9, 5, -12)) # Should return [3.5, -8.625]\n",
    "\n",
    "print(get_peak_in_region(5, 1.2, 5.1, 1.3, 5.2, 1.4)) # Should return None (the approximation should be straight)\n",
    "\n",
    "print(get_peak_in_region(1, 1, 2, 0, 3, -2)) # Should be None (the peak is to the before the region we're approximating)\n",
    "\n",
    "print(get_peak_in_region(-10, 0, -5, 10, 0, 15)) # Should be None (the peak is after the region we're approximating)\n",
    "\n",
    "print(get_peak_in_region(0, 2, 1, 1, 2, 2)) # Should be None (the flat section of the approximation is a trough not a peak)"
   ]
  },
  {
   "cell_type": "markdown",
   "metadata": {},
   "source": [
    "## Task 3 - Examining a Whole Dataset\n",
    "\n",
    "Now that we have a function which can determine if there is a peak in a region of three data points and where that peak is, we can use this function to examine a whole dataset and find which is the highest peak.\n",
    "\n",
    "To do this, we will consider each region of three data points in turn, and use our function ```get_peak_in_region``` to determine if there is a value in each region. If there is, we will evaluate if it higher than the highest peak we have found so far. If it is, we will store the coordinates of this peak.\n",
    "\n",
    "For example, if we have data points $(x_{1}, y_{1}), (x_{2}, y_{2}), ... , (x_{10}, y_{10})$ We will first examine the region between $x_{1}$ and $x_{3}$, then the region between $x_{2}$ and $x_{4}$, then the region between $x_{3}$ and $x_{5}$, and so on."
   ]
  },
  {
   "cell_type": "markdown",
   "metadata": {},
   "source": [
    "### Coding\n",
    "\n",
    "Write a function named ```get_peak_data_set```. This should receive two arguments. The first is a list containing the x values of the data set, and the second is a list containing the y values of the data set. The function should return a list containing the Cartesian coordinates of the highest peak in the data set. If the dataset does not contain any peaks, the function should return ```None```.\n",
    "\n",
    "You may assume that the two lists provided as arguments will be the same length, will contain only numerical values, and that the data set will contain at least three points.\n",
    "\n",
    "Write your function in the cell below. There are some calls to the function in the cell which you can use to test your function."
   ]
  },
  {
   "cell_type": "code",
   "execution_count": 3,
   "metadata": {},
   "outputs": [
    {
     "name": "stdout",
     "output_type": "stream",
     "text": [
      "[1.0, 1.0]\n",
      "[3.0, 2.0]\n",
      "[1.0, 3.5]\n",
      "[5.333333333333333, 20.666666666666657]\n",
      "None\n"
     ]
    }
   ],
   "source": [
    "# Write your function here\n",
    "def get_peak_dataset(x, y):\n",
    "    peak = None\n",
    "    for three in range(len(x)-2):\n",
    "        peak_in_region = get_peak_in_region(x[three], y[three], x[three+1], y[three+1], x[three+2], y[three+2])\n",
    "        if peak_in_region != None:\n",
    "            if peak == None:\n",
    "                peak = peak_in_region\n",
    "            elif peak_in_region[1] > peak[1]:\n",
    "                peak = peak_in_region\n",
    "    return peak\n",
    "                \n",
    "\n",
    "# Test Cases\n",
    "x = [0, 1, 2]\n",
    "y = [0, 1, 0]\n",
    "print(get_peak_dataset(x, y)) # Should return the value [1.0, 1.0]\n",
    "\n",
    "x = [0, 1, 2, 3, 4]\n",
    "y = [0, 1, 0, 2, 0]\n",
    "print(get_peak_dataset(x, y)) # Should return the value [3.0, 2.0]\n",
    "\n",
    "x = [0, 1, 2, 3, 4]\n",
    "y = [1, 3.5, 1, 3, 1]\n",
    "print(get_peak_dataset(x, y)) # Should return the value [1.0, 3.5]\n",
    "\n",
    "x = [0, 1, 2, 3, 4, 5, 6, 7, 8, 9, 10, 11, 12, 13, 14, 15, 16, 17, 18, 19, 20]\n",
    "y = [0, 1, 2, 5, 10, 20, 18, 14, 12, 11, 10, 10, 11, 13, 15, 17, 19, 20.5, 19, 17, 14]\n",
    "print(get_peak_dataset(x, y)) # Should return the value [5.33.., 20.66...]\n",
    "\n",
    "x = [0, 1, 2, 3, 4]\n",
    "y = [0, -1, -2, -1, 0]\n",
    "print(get_peak_dataset(x, y)) # Should return None as there is no peak"
   ]
  }
 ],
 "metadata": {
  "kernelspec": {
   "display_name": "Python 3 (ipykernel)",
   "language": "python",
   "name": "python3"
  },
  "language_info": {
   "codemirror_mode": {
    "name": "ipython",
    "version": 3
   },
   "file_extension": ".py",
   "mimetype": "text/x-python",
   "name": "python",
   "nbconvert_exporter": "python",
   "pygments_lexer": "ipython3",
   "version": "3.12.4"
  }
 },
 "nbformat": 4,
 "nbformat_minor": 4
}
